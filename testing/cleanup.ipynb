{
 "cells": [
  {
   "cell_type": "code",
   "execution_count": null,
   "id": "ae40218d",
   "metadata": {},
   "outputs": [
    {
     "name": "stdout",
     "output_type": "stream",
     "text": [
      "Matched 0 document(s) with non-empty cation_counts.\n",
      "Dry run: no deletions performed.\n",
      "Matched 0 document(s) with non-empty cation_counts.\n",
      "Dry run: no deletions performed.\n"
     ]
    },
    {
     "data": {
      "text/plain": [
       "{'matched': 0, 'deleted': 0, 'sample_ids': []}"
      ]
     },
     "execution_count": 4,
     "metadata": {},
     "output_type": "execute_result"
    }
   ],
   "source": [
    "from typing import Any\n",
    "\n",
    "from phaseedge.storage import store\n",
    "\n",
    "def delete_ckpts_with_cation_counts(\n",
    "    *,\n",
    "    wl_key: str | None = None,\n",
    "    dry_run: bool = True,\n",
    "    limit: int | None = None,\n",
    ") -> dict[str, Any]:\n",
    "    \"\"\"\n",
    "    Delete documents from `wang_landau_ckpt` that have a non-empty `cation_counts` array.\n",
    "\n",
    "    Args:\n",
    "        wl_key: if provided, restrict deletion to this WL chain key.\n",
    "        dry_run: if True, only list what would be deleted (no deletion).\n",
    "        limit: if provided, cap the number of documents considered (sorted by wl_key, step_end).\n",
    "\n",
    "    Returns:\n",
    "        A summary dict with 'matched', 'deleted', and 'sample_ids'.\n",
    "    \"\"\"\n",
    "    coll = store.db_rw()[\"wang_landau_ckpt\"]\n",
    "\n",
    "    criteria: dict[str, Any] = {\"cation_counts\": {\"$elemMatch\": {}}}\n",
    "    if wl_key:\n",
    "        criteria[\"wl_key\"] = wl_key\n",
    "\n",
    "    projection: dict[str, int] = {\"_id\": 1, \"wl_key\": 1, \"step_end\": 1}\n",
    "    cursor = coll.find(criteria, projection).sort([(\"wl_key\", 1), (\"step_end\", 1)])\n",
    "    if limit is not None:\n",
    "        cursor = cursor.limit(int(limit))\n",
    "\n",
    "    docs = list(cursor)\n",
    "    sample_ids = [str(d[\"_id\"]) for d in docs[:10]]\n",
    "    matched = len(docs)\n",
    "\n",
    "    print(f\"Matched {matched} document(s) with non-empty cation_counts\"\n",
    "          f\"{' for wl_key='+wl_key if wl_key else ''}.\")\n",
    "    if matched:\n",
    "        print(\"First few _id values:\")\n",
    "        for i, oid in enumerate(sample_ids, 1):\n",
    "            print(f\"{i:5d}  {oid}\")\n",
    "\n",
    "    if dry_run or matched == 0:\n",
    "        print(\"Dry run: no deletions performed.\")\n",
    "        return {\"matched\": matched, \"deleted\": 0, \"sample_ids\": sample_ids}\n",
    "\n",
    "    # Perform deletion\n",
    "    result = coll.delete_many(criteria)\n",
    "    deleted = int(result.deleted_count)\n",
    "    print(f\"Deleted {deleted} document(s).\")\n",
    "    return {\"matched\": matched, \"deleted\": deleted, \"sample_ids\": sample_ids}\n",
    "\n",
    "# EXAMPLES:\n",
    "# 1) Preview everything that would be deleted (no deletion):\n",
    "delete_ckpts_with_cation_counts(dry_run=True)\n",
    "\n",
    "# 2) Actually delete across ALL wl_key chains:\n",
    "# delete_ckpts_with_cation_counts(dry_run=False)\n",
    "\n",
    "# 3) Only delete within a specific chain:\n",
    "# delete_ckpts_with_cation_counts(wl_key=\"my_wl_chain_key\", dry_run=False)\n"
   ]
  }
 ],
 "metadata": {
  "kernelspec": {
   "display_name": "atomate2",
   "language": "python",
   "name": "python3"
  },
  "language_info": {
   "codemirror_mode": {
    "name": "ipython",
    "version": 3
   },
   "file_extension": ".py",
   "mimetype": "text/x-python",
   "name": "python",
   "nbconvert_exporter": "python",
   "pygments_lexer": "ipython3",
   "version": "3.10.18"
  }
 },
 "nbformat": 4,
 "nbformat_minor": 5
}
